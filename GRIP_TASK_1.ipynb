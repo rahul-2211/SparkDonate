{
  "nbformat": 4,
  "nbformat_minor": 0,
  "metadata": {
    "colab": {
      "name": "GRIP-TASK-1.ipynb",
      "provenance": [],
      "collapsed_sections": [],
      "authorship_tag": "ABX9TyNcJzoc96OFfZjZ/5REs6Vv",
      "include_colab_link": true
    },
    "kernelspec": {
      "display_name": "Python 3",
      "name": "python3"
    },
    "language_info": {
      "name": "python"
    }
  },
  "cells": [
    {
      "cell_type": "markdown",
      "metadata": {
        "id": "view-in-github",
        "colab_type": "text"
      },
      "source": [
        "<a href=\"https://colab.research.google.com/github/rahul-2211/SparkDonate/blob/main/GRIP_TASK_1.ipynb\" target=\"_parent\"><img src=\"https://colab.research.google.com/assets/colab-badge.svg\" alt=\"Open In Colab\"/></a>"
      ]
    },
    {
      "cell_type": "markdown",
      "metadata": {
        "id": "L_B5wyMABwr3"
      },
      "source": [
        "# **Task-1** Prediction using Supervised ML"
      ]
    },
    {
      "cell_type": "code",
      "metadata": {
        "id": "2qkO0_0FpNgB"
      },
      "source": [
        "# Importing all libraries required in this notebook\n",
        "import pandas as pd\n",
        "import numpy as np  \n",
        "import matplotlib.pyplot as plt  \n",
        "%matplotlib inline"
      ],
      "execution_count": 1,
      "outputs": []
    },
    {
      "cell_type": "code",
      "metadata": {
        "colab": {
          "base_uri": "https://localhost:8080/",
          "height": 357
        },
        "id": "TSkWyi0fpxXs",
        "outputId": "17efd608-0316-4475-8148-c0f7734cfe04"
      },
      "source": [
        "# Reading data from remote link\n",
        "df = pd.read_csv(\"http://bit.ly/w-data\")\n",
        "df.head(10)"
      ],
      "execution_count": 2,
      "outputs": [
        {
          "output_type": "execute_result",
          "data": {
            "text/html": [
              "<div>\n",
              "<style scoped>\n",
              "    .dataframe tbody tr th:only-of-type {\n",
              "        vertical-align: middle;\n",
              "    }\n",
              "\n",
              "    .dataframe tbody tr th {\n",
              "        vertical-align: top;\n",
              "    }\n",
              "\n",
              "    .dataframe thead th {\n",
              "        text-align: right;\n",
              "    }\n",
              "</style>\n",
              "<table border=\"1\" class=\"dataframe\">\n",
              "  <thead>\n",
              "    <tr style=\"text-align: right;\">\n",
              "      <th></th>\n",
              "      <th>Hours</th>\n",
              "      <th>Scores</th>\n",
              "    </tr>\n",
              "  </thead>\n",
              "  <tbody>\n",
              "    <tr>\n",
              "      <th>0</th>\n",
              "      <td>2.5</td>\n",
              "      <td>21</td>\n",
              "    </tr>\n",
              "    <tr>\n",
              "      <th>1</th>\n",
              "      <td>5.1</td>\n",
              "      <td>47</td>\n",
              "    </tr>\n",
              "    <tr>\n",
              "      <th>2</th>\n",
              "      <td>3.2</td>\n",
              "      <td>27</td>\n",
              "    </tr>\n",
              "    <tr>\n",
              "      <th>3</th>\n",
              "      <td>8.5</td>\n",
              "      <td>75</td>\n",
              "    </tr>\n",
              "    <tr>\n",
              "      <th>4</th>\n",
              "      <td>3.5</td>\n",
              "      <td>30</td>\n",
              "    </tr>\n",
              "    <tr>\n",
              "      <th>5</th>\n",
              "      <td>1.5</td>\n",
              "      <td>20</td>\n",
              "    </tr>\n",
              "    <tr>\n",
              "      <th>6</th>\n",
              "      <td>9.2</td>\n",
              "      <td>88</td>\n",
              "    </tr>\n",
              "    <tr>\n",
              "      <th>7</th>\n",
              "      <td>5.5</td>\n",
              "      <td>60</td>\n",
              "    </tr>\n",
              "    <tr>\n",
              "      <th>8</th>\n",
              "      <td>8.3</td>\n",
              "      <td>81</td>\n",
              "    </tr>\n",
              "    <tr>\n",
              "      <th>9</th>\n",
              "      <td>2.7</td>\n",
              "      <td>25</td>\n",
              "    </tr>\n",
              "  </tbody>\n",
              "</table>\n",
              "</div>"
            ],
            "text/plain": [
              "   Hours  Scores\n",
              "0    2.5      21\n",
              "1    5.1      47\n",
              "2    3.2      27\n",
              "3    8.5      75\n",
              "4    3.5      30\n",
              "5    1.5      20\n",
              "6    9.2      88\n",
              "7    5.5      60\n",
              "8    8.3      81\n",
              "9    2.7      25"
            ]
          },
          "metadata": {},
          "execution_count": 2
        }
      ]
    },
    {
      "cell_type": "code",
      "metadata": {
        "colab": {
          "base_uri": "https://localhost:8080/",
          "height": 295
        },
        "id": "Zq5UAmYf8us7",
        "outputId": "464c6786-baf8-44de-8e41-5299e55244ad"
      },
      "source": [
        "df.plot(x='Hours', y='Scores', style='o')  \n",
        "plt.title('Hours vs Percentage')  \n",
        "plt.xlabel('Hours Studied')  \n",
        "plt.ylabel('Percentage Score')  \n",
        "plt.show()"
      ],
      "execution_count": 3,
      "outputs": [
        {
          "output_type": "display_data",
          "data": {
            "image/png": "[encoded data removed]",
            "text/plain": [
              "<Figure size 432x288 with 1 Axes>"
            ]
          },
          "metadata": {
            "needs_background": "light"
          }
        }
      ]
    },
    {
      "cell_type": "code",
      "metadata": {
        "id": "VDRnunxyqEMi"
      },
      "source": [
        "X=df['Hours'].values\n",
        "Y=df['Scores'].values"
      ],
      "execution_count": 4,
      "outputs": []
    },
    {
      "cell_type": "code",
      "metadata": {
        "colab": {
          "base_uri": "https://localhost:8080/"
        },
        "id": "Q90dh5dOqoQO",
        "outputId": "bc4d5d72-da8d-4688-e2e1-76372f68d079"
      },
      "source": [
        "mean_x=np.mean(X)\n",
        "mean_y=np.mean(Y)\n",
        "\n",
        "n=len(X)\n",
        "\n",
        "num=0\n",
        "den=0\n",
        "\n",
        "for i in range(n):\n",
        "  num += (X[i]-mean_x)*(Y[i]-mean_y)\n",
        "  den += (X[i]-mean_x)**2\n",
        "\n",
        "b1 = num/den\n",
        "b0=mean_y - (mean_x*b1)\n",
        "\n",
        "print(b1,b0)"
      ],
      "execution_count": 5,
      "outputs": [
        {
          "output_type": "stream",
          "text": [
            "9.775803390787475 2.4836734053731746\n"
          ],
          "name": "stdout"
        }
      ]
    },
    {
      "cell_type": "code",
      "metadata": {
        "colab": {
          "base_uri": "https://localhost:8080/",
          "height": 279
        },
        "id": "6KgevpHAsHI3",
        "outputId": "2447da49-0b14-4c97-84b2-a6004b72b00a"
      },
      "source": [
        "max_x=np.max(X) + 100\n",
        "min_x=np.min(X) - 100\n",
        "\n",
        "x=np.linspace(min_x,max_x,1000)\n",
        "y=b0+b1*x\n",
        "\n",
        "plt.plot(x,y,color='blue',label='Regression Line')\n",
        "\n",
        "plt.scatter(X,Y, color='red',label='Scatter Plot')\n",
        "\n",
        "plt.xlabel('Hours')\n",
        "plt.ylabel('Scores')\n",
        "plt.legend()\n",
        "plt.show()\n"
      ],
      "execution_count": 6,
      "outputs": [
        {
          "output_type": "display_data",
          "data": {
            "image/png": "[encoded data removed]",
            "text/plain": [
              "<Figure size 432x288 with 1 Axes>"
            ]
          },
          "metadata": {
            "needs_background": "light"
          }
        }
      ]
    },
    {
      "cell_type": "code",
      "metadata": {
        "colab": {
          "base_uri": "https://localhost:8080/"
        },
        "id": "aK1_9vxeuQA-",
        "outputId": "7846a731-099f-4de6-d438-d4acbcf82a8c"
      },
      "source": [
        "ss_t=0\n",
        "ss_r=0\n",
        "for i in range(n):\n",
        "  y_pred= b0+b1*X[i]\n",
        "  ss_t += (Y[i]-mean_y)**2\n",
        "  ss_r += (Y[i]-y_pred)**2\n",
        "r2 = 1- (ss_r/ss_t)\n",
        "print(r2)"
      ],
      "execution_count": 7,
      "outputs": [
        {
          "output_type": "stream",
          "text": [
            "0.9529481969048356\n"
          ],
          "name": "stdout"
        }
      ]
    },
    {
      "cell_type": "code",
      "metadata": {
        "colab": {
          "base_uri": "https://localhost:8080/"
        },
        "id": "zAkkqrAwCqYA",
        "outputId": "2c7bc622-d916-4e06-8470-e5fe7bd23700"
      },
      "source": [
        "for i in range(n):\n",
        "  actual=np.array(Y[i])# Comparing Actual vs Predicted\n",
        "  predicted=np.array(b0+(b1*X[i]))\n",
        "# Comparing Actual vs Predicted\n",
        "  \n",
        "  print(\"predicted\",\"actual\") \n",
        "  print(predicted,actual) \n",
        "# Comparing Actual vs Predicted\n"
      ],
      "execution_count": 8,
      "outputs": [
        {
          "output_type": "stream",
          "text": [
            "predicted actual\n",
            "26.92318188234186 21\n",
            "predicted actual\n",
            "52.3402706983893 47\n",
            "predicted actual\n",
            "33.7662442558931 27\n",
            "predicted actual\n",
            "85.57800222706672 75\n",
            "predicted actual\n",
            "36.69898527312934 30\n",
            "predicted actual\n",
            "17.147378491554388 20\n",
            "predicted actual\n",
            "92.42106460061794 88\n",
            "predicted actual\n",
            "56.250592054704285 60\n",
            "predicted actual\n",
            "83.62284154890924 81\n",
            "predicted actual\n",
            "28.87834256049936 25\n",
            "predicted actual\n",
            "77.75735951443673 85\n",
            "predicted actual\n",
            "60.16091341101928 62\n",
            "predicted actual\n",
            "46.47478866391681 41\n",
            "predicted actual\n",
            "34.74382459497184 42\n",
            "predicted actual\n",
            "13.237057135239398 17\n",
            "predicted actual\n",
            "89.48832358338171 95\n",
            "predicted actual\n",
            "26.92318188234186 30\n",
            "predicted actual\n",
            "21.057699847869376 24\n",
            "predicted actual\n",
            "62.11607408917677 67\n",
            "predicted actual\n",
            "74.8246184972005 69\n",
            "predicted actual\n",
            "28.87834256049936 30\n",
            "predicted actual\n",
            "49.40752968115305 54\n",
            "predicted actual\n",
            "39.63172629036558 35\n",
            "predicted actual\n",
            "69.93671680180677 76\n",
            "predicted actual\n",
            "78.73493985351547 86\n"
          ],
          "name": "stdout"
        }
      ]
    },
    {
      "cell_type": "code",
      "metadata": {
        "colab": {
          "base_uri": "https://localhost:8080/"
        },
        "id": "PvZ6q3OfvL0n",
        "outputId": "2c4126ed-b5fe-4ece-9f5b-9641f58e8bf8"
      },
      "source": [
        "from sklearn.linear_model import LinearRegression\n",
        "from sklearn.metrics import mean_squared_error\n",
        "\n",
        "X=X.reshape((n,1))\n",
        "\n",
        "reg=LinearRegression()\n",
        "\n",
        "reg=reg.fit(X,Y)\n",
        "\n",
        "Y_pred = reg.predict(X)\n",
        "\n",
        "r2_score=reg.score(X,Y)\n",
        "print(r2_score)"
      ],
      "execution_count": 12,
      "outputs": [
        {
          "output_type": "stream",
          "text": [
            "0.9529481969048356\n"
          ],
          "name": "stdout"
        }
      ]
    },
    {
      "cell_type": "code",
      "metadata": {
        "colab": {
          "base_uri": "https://localhost:8080/"
        },
        "id": "dFcUMEHTHlK4",
        "outputId": "ec889ac5-b067-4a30-e087-73f97b5f30d8"
      },
      "source": [
        "# You can also test with your own data\n",
        "\n",
        "own_pred = reg.predict([[9.25]])\n",
        "own_pred"
      ],
      "execution_count": 18,
      "outputs": [
        {
          "output_type": "execute_result",
          "data": {
            "text/plain": [
              "array([92.90985477])"
            ]
          },
          "metadata": {},
          "execution_count": 18
        }
      ]
    }
  ]
}